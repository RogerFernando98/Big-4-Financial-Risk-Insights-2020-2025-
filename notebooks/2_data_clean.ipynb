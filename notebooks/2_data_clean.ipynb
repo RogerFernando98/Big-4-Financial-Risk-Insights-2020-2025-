{
 "cells": [
  {
   "cell_type": "markdown",
   "id": "daa9f831",
   "metadata": {},
   "source": [
    "# Limpieza de Datos (Data Cleaning)\n",
    "\n",
    "Este notebook está dedicado exclusivamente a la **limpieza y preparación de los datos** del dataset de clientes de telecomunicaciones.\n",
    "El objetivo es dejar la información lista para el análisis exploratorio (**EDA**)."
   ]
  },
  {
   "cell_type": "markdown",
   "id": "370bef4c",
   "metadata": {},
   "source": [
    "# 1.-Librerías"
   ]
  },
  {
   "cell_type": "code",
   "execution_count": 1,
   "id": "9599bd35",
   "metadata": {},
   "outputs": [],
   "source": [
    "# Tratamiento de datos\n",
    "# -----------------------------------------------------------------------\n",
    "import pandas as pd #manejo de estructura de datos tabulares\n",
    "\n",
    "# importamos los warnings\n",
    "# -----------------------------------------------------------------------\n",
    "import warnings\n",
    "warnings.filterwarnings('ignore')\n",
    "\n",
    "# importamos configuracion de pandas\n",
    "# -----------------------------------------------------------------------\n",
    "pd.options.display.max_columns = None"
   ]
  },
  {
   "cell_type": "markdown",
   "id": "61825650",
   "metadata": {},
   "source": [
    "# 2.- Cargar datos"
   ]
  },
  {
   "cell_type": "code",
   "execution_count": 2,
   "id": "a04a4ca7",
   "metadata": {},
   "outputs": [
    {
     "data": {
      "text/html": [
       "<div>\n",
       "<style scoped>\n",
       "    .dataframe tbody tr th:only-of-type {\n",
       "        vertical-align: middle;\n",
       "    }\n",
       "\n",
       "    .dataframe tbody tr th {\n",
       "        vertical-align: top;\n",
       "    }\n",
       "\n",
       "    .dataframe thead th {\n",
       "        text-align: right;\n",
       "    }\n",
       "</style>\n",
       "<table border=\"1\" class=\"dataframe\">\n",
       "  <thead>\n",
       "    <tr style=\"text-align: right;\">\n",
       "      <th></th>\n",
       "      <th>user_id</th>\n",
       "      <th>age</th>\n",
       "      <th>gender</th>\n",
       "      <th>education_level</th>\n",
       "      <th>employment_status</th>\n",
       "      <th>job_title</th>\n",
       "      <th>monthly_income_usd</th>\n",
       "      <th>monthly_expenses_usd</th>\n",
       "      <th>savings_usd</th>\n",
       "      <th>has_loan</th>\n",
       "      <th>loan_type</th>\n",
       "      <th>loan_amount_usd</th>\n",
       "      <th>loan_term_months</th>\n",
       "      <th>monthly_emi_usd</th>\n",
       "      <th>loan_interest_rate_pct</th>\n",
       "      <th>debt_to_income_ratio</th>\n",
       "      <th>credit_score</th>\n",
       "      <th>savings_to_income_ratio</th>\n",
       "      <th>region</th>\n",
       "      <th>record_date</th>\n",
       "    </tr>\n",
       "  </thead>\n",
       "  <tbody>\n",
       "    <tr>\n",
       "      <th>0</th>\n",
       "      <td>U00001</td>\n",
       "      <td>56</td>\n",
       "      <td>Female</td>\n",
       "      <td>High School</td>\n",
       "      <td>Self-employed</td>\n",
       "      <td>Salesperson</td>\n",
       "      <td>3531.69</td>\n",
       "      <td>1182.59</td>\n",
       "      <td>367655.03</td>\n",
       "      <td>No</td>\n",
       "      <td>NaN</td>\n",
       "      <td>0.00</td>\n",
       "      <td>0</td>\n",
       "      <td>0.00</td>\n",
       "      <td>0.00</td>\n",
       "      <td>0.00</td>\n",
       "      <td>430</td>\n",
       "      <td>8.68</td>\n",
       "      <td>Other</td>\n",
       "      <td>2024-01-09</td>\n",
       "    </tr>\n",
       "    <tr>\n",
       "      <th>1</th>\n",
       "      <td>U00002</td>\n",
       "      <td>19</td>\n",
       "      <td>Female</td>\n",
       "      <td>PhD</td>\n",
       "      <td>Employed</td>\n",
       "      <td>Salesperson</td>\n",
       "      <td>3531.73</td>\n",
       "      <td>2367.99</td>\n",
       "      <td>260869.10</td>\n",
       "      <td>Yes</td>\n",
       "      <td>Education</td>\n",
       "      <td>146323.34</td>\n",
       "      <td>36</td>\n",
       "      <td>4953.50</td>\n",
       "      <td>13.33</td>\n",
       "      <td>1.40</td>\n",
       "      <td>543</td>\n",
       "      <td>6.16</td>\n",
       "      <td>North America</td>\n",
       "      <td>2022-02-13</td>\n",
       "    </tr>\n",
       "    <tr>\n",
       "      <th>2</th>\n",
       "      <td>U00003</td>\n",
       "      <td>20</td>\n",
       "      <td>Female</td>\n",
       "      <td>Master</td>\n",
       "      <td>Employed</td>\n",
       "      <td>Teacher</td>\n",
       "      <td>2799.49</td>\n",
       "      <td>1003.91</td>\n",
       "      <td>230921.21</td>\n",
       "      <td>No</td>\n",
       "      <td>NaN</td>\n",
       "      <td>0.00</td>\n",
       "      <td>0</td>\n",
       "      <td>0.00</td>\n",
       "      <td>0.00</td>\n",
       "      <td>0.00</td>\n",
       "      <td>754</td>\n",
       "      <td>6.87</td>\n",
       "      <td>Africa</td>\n",
       "      <td>2022-05-12</td>\n",
       "    </tr>\n",
       "    <tr>\n",
       "      <th>3</th>\n",
       "      <td>U00004</td>\n",
       "      <td>25</td>\n",
       "      <td>Male</td>\n",
       "      <td>PhD</td>\n",
       "      <td>Employed</td>\n",
       "      <td>Manager</td>\n",
       "      <td>5894.88</td>\n",
       "      <td>4440.12</td>\n",
       "      <td>304815.51</td>\n",
       "      <td>Yes</td>\n",
       "      <td>Business</td>\n",
       "      <td>93242.37</td>\n",
       "      <td>24</td>\n",
       "      <td>4926.57</td>\n",
       "      <td>23.93</td>\n",
       "      <td>0.84</td>\n",
       "      <td>461</td>\n",
       "      <td>4.31</td>\n",
       "      <td>Europe</td>\n",
       "      <td>2023-10-02</td>\n",
       "    </tr>\n",
       "    <tr>\n",
       "      <th>4</th>\n",
       "      <td>U00005</td>\n",
       "      <td>53</td>\n",
       "      <td>Female</td>\n",
       "      <td>PhD</td>\n",
       "      <td>Employed</td>\n",
       "      <td>Student</td>\n",
       "      <td>5128.93</td>\n",
       "      <td>4137.61</td>\n",
       "      <td>461509.48</td>\n",
       "      <td>No</td>\n",
       "      <td>NaN</td>\n",
       "      <td>0.00</td>\n",
       "      <td>0</td>\n",
       "      <td>0.00</td>\n",
       "      <td>0.00</td>\n",
       "      <td>0.00</td>\n",
       "      <td>516</td>\n",
       "      <td>7.50</td>\n",
       "      <td>Africa</td>\n",
       "      <td>2021-08-07</td>\n",
       "    </tr>\n",
       "  </tbody>\n",
       "</table>\n",
       "</div>"
      ],
      "text/plain": [
       "  user_id  age  gender education_level employment_status    job_title  \\\n",
       "0  U00001   56  Female     High School     Self-employed  Salesperson   \n",
       "1  U00002   19  Female             PhD          Employed  Salesperson   \n",
       "2  U00003   20  Female          Master          Employed      Teacher   \n",
       "3  U00004   25    Male             PhD          Employed      Manager   \n",
       "4  U00005   53  Female             PhD          Employed      Student   \n",
       "\n",
       "   monthly_income_usd  monthly_expenses_usd  savings_usd has_loan  loan_type  \\\n",
       "0             3531.69               1182.59    367655.03       No        NaN   \n",
       "1             3531.73               2367.99    260869.10      Yes  Education   \n",
       "2             2799.49               1003.91    230921.21       No        NaN   \n",
       "3             5894.88               4440.12    304815.51      Yes   Business   \n",
       "4             5128.93               4137.61    461509.48       No        NaN   \n",
       "\n",
       "   loan_amount_usd  loan_term_months  monthly_emi_usd  loan_interest_rate_pct  \\\n",
       "0             0.00                 0             0.00                    0.00   \n",
       "1        146323.34                36          4953.50                   13.33   \n",
       "2             0.00                 0             0.00                    0.00   \n",
       "3         93242.37                24          4926.57                   23.93   \n",
       "4             0.00                 0             0.00                    0.00   \n",
       "\n",
       "   debt_to_income_ratio  credit_score  savings_to_income_ratio         region  \\\n",
       "0                  0.00           430                     8.68          Other   \n",
       "1                  1.40           543                     6.16  North America   \n",
       "2                  0.00           754                     6.87         Africa   \n",
       "3                  0.84           461                     4.31         Europe   \n",
       "4                  0.00           516                     7.50         Africa   \n",
       "\n",
       "  record_date  \n",
       "0  2024-01-09  \n",
       "1  2022-02-13  \n",
       "2  2022-05-12  \n",
       "3  2023-10-02  \n",
       "4  2021-08-07  "
      ]
     },
     "execution_count": 2,
     "metadata": {},
     "output_type": "execute_result"
    }
   ],
   "source": [
    "# Cargamos los datos desde la carpeta data/raw\n",
    "df = pd.read_csv(\"../data/raw/synthetic_personal_finance_dataset.csv\")\n",
    "df.head()"
   ]
  },
  {
   "cell_type": "markdown",
   "id": "5923a1d5",
   "metadata": {},
   "source": [
    "# 3.- Transformación de datos"
   ]
  },
  {
   "cell_type": "markdown",
   "id": "74fe5e59",
   "metadata": {},
   "source": [
    "* Mantener user_id como string ( es un identificador alfanumérico).\n",
    "* Convertir has_loan a booleana (Sí/No --> True/False).\n",
    "* Pasar columna record_date a datetime para análisis temporal."
   ]
  },
  {
   "cell_type": "markdown",
   "id": "c42901a7",
   "metadata": {},
   "source": [
    "## 3.1.- Imputar Nulos"
   ]
  },
  {
   "cell_type": "markdown",
   "id": "487fb65c",
   "metadata": {},
   "source": [
    "Como ya hemos visto anteriormente, la única columna con nulos es \"loan_type\" y vimos que los nulos estaban relacionados cuando en la columna \"has_loan\" había el valor categórico No.\n",
    "Dicho esto, vamos a imputar los valores nulos con \"No_loan\"."
   ]
  },
  {
   "cell_type": "code",
   "execution_count": 3,
   "id": "7e2b830c",
   "metadata": {},
   "outputs": [
    {
     "data": {
      "text/plain": [
       "array(['No', 'Yes'], dtype=object)"
      ]
     },
     "execution_count": 3,
     "metadata": {},
     "output_type": "execute_result"
    }
   ],
   "source": [
    "df[\"has_loan\"].unique()"
   ]
  },
  {
   "cell_type": "code",
   "execution_count": 4,
   "id": "7183a686",
   "metadata": {},
   "outputs": [
    {
     "data": {
      "text/plain": [
       "array([nan, 'Education', 'Business', 'Car', 'Home'], dtype=object)"
      ]
     },
     "execution_count": 4,
     "metadata": {},
     "output_type": "execute_result"
    }
   ],
   "source": [
    "df[\"loan_type\"].unique()"
   ]
  },
  {
   "cell_type": "markdown",
   "id": "a640af55",
   "metadata": {},
   "source": [
    "A partir de ahora tendremos que hacer cambios en el dataframe, por seguridad vamos a hacer una copia por si más adelante necesitamos comprobar algo o volver atrás."
   ]
  },
  {
   "cell_type": "code",
   "execution_count": 5,
   "id": "132d82b8",
   "metadata": {},
   "outputs": [
    {
     "data": {
      "text/html": [
       "<div>\n",
       "<style scoped>\n",
       "    .dataframe tbody tr th:only-of-type {\n",
       "        vertical-align: middle;\n",
       "    }\n",
       "\n",
       "    .dataframe tbody tr th {\n",
       "        vertical-align: top;\n",
       "    }\n",
       "\n",
       "    .dataframe thead th {\n",
       "        text-align: right;\n",
       "    }\n",
       "</style>\n",
       "<table border=\"1\" class=\"dataframe\">\n",
       "  <thead>\n",
       "    <tr style=\"text-align: right;\">\n",
       "      <th></th>\n",
       "      <th>user_id</th>\n",
       "      <th>age</th>\n",
       "      <th>gender</th>\n",
       "      <th>education_level</th>\n",
       "      <th>employment_status</th>\n",
       "      <th>job_title</th>\n",
       "      <th>monthly_income_usd</th>\n",
       "      <th>monthly_expenses_usd</th>\n",
       "      <th>savings_usd</th>\n",
       "      <th>has_loan</th>\n",
       "      <th>loan_type</th>\n",
       "      <th>loan_amount_usd</th>\n",
       "      <th>loan_term_months</th>\n",
       "      <th>monthly_emi_usd</th>\n",
       "      <th>loan_interest_rate_pct</th>\n",
       "      <th>debt_to_income_ratio</th>\n",
       "      <th>credit_score</th>\n",
       "      <th>savings_to_income_ratio</th>\n",
       "      <th>region</th>\n",
       "      <th>record_date</th>\n",
       "    </tr>\n",
       "  </thead>\n",
       "  <tbody>\n",
       "    <tr>\n",
       "      <th>0</th>\n",
       "      <td>U00001</td>\n",
       "      <td>56</td>\n",
       "      <td>Female</td>\n",
       "      <td>High School</td>\n",
       "      <td>Self-employed</td>\n",
       "      <td>Salesperson</td>\n",
       "      <td>3531.69</td>\n",
       "      <td>1182.59</td>\n",
       "      <td>367655.03</td>\n",
       "      <td>No</td>\n",
       "      <td>NaN</td>\n",
       "      <td>0.00</td>\n",
       "      <td>0</td>\n",
       "      <td>0.00</td>\n",
       "      <td>0.00</td>\n",
       "      <td>0.00</td>\n",
       "      <td>430</td>\n",
       "      <td>8.68</td>\n",
       "      <td>Other</td>\n",
       "      <td>2024-01-09</td>\n",
       "    </tr>\n",
       "    <tr>\n",
       "      <th>1</th>\n",
       "      <td>U00002</td>\n",
       "      <td>19</td>\n",
       "      <td>Female</td>\n",
       "      <td>PhD</td>\n",
       "      <td>Employed</td>\n",
       "      <td>Salesperson</td>\n",
       "      <td>3531.73</td>\n",
       "      <td>2367.99</td>\n",
       "      <td>260869.10</td>\n",
       "      <td>Yes</td>\n",
       "      <td>Education</td>\n",
       "      <td>146323.34</td>\n",
       "      <td>36</td>\n",
       "      <td>4953.50</td>\n",
       "      <td>13.33</td>\n",
       "      <td>1.40</td>\n",
       "      <td>543</td>\n",
       "      <td>6.16</td>\n",
       "      <td>North America</td>\n",
       "      <td>2022-02-13</td>\n",
       "    </tr>\n",
       "    <tr>\n",
       "      <th>2</th>\n",
       "      <td>U00003</td>\n",
       "      <td>20</td>\n",
       "      <td>Female</td>\n",
       "      <td>Master</td>\n",
       "      <td>Employed</td>\n",
       "      <td>Teacher</td>\n",
       "      <td>2799.49</td>\n",
       "      <td>1003.91</td>\n",
       "      <td>230921.21</td>\n",
       "      <td>No</td>\n",
       "      <td>NaN</td>\n",
       "      <td>0.00</td>\n",
       "      <td>0</td>\n",
       "      <td>0.00</td>\n",
       "      <td>0.00</td>\n",
       "      <td>0.00</td>\n",
       "      <td>754</td>\n",
       "      <td>6.87</td>\n",
       "      <td>Africa</td>\n",
       "      <td>2022-05-12</td>\n",
       "    </tr>\n",
       "    <tr>\n",
       "      <th>3</th>\n",
       "      <td>U00004</td>\n",
       "      <td>25</td>\n",
       "      <td>Male</td>\n",
       "      <td>PhD</td>\n",
       "      <td>Employed</td>\n",
       "      <td>Manager</td>\n",
       "      <td>5894.88</td>\n",
       "      <td>4440.12</td>\n",
       "      <td>304815.51</td>\n",
       "      <td>Yes</td>\n",
       "      <td>Business</td>\n",
       "      <td>93242.37</td>\n",
       "      <td>24</td>\n",
       "      <td>4926.57</td>\n",
       "      <td>23.93</td>\n",
       "      <td>0.84</td>\n",
       "      <td>461</td>\n",
       "      <td>4.31</td>\n",
       "      <td>Europe</td>\n",
       "      <td>2023-10-02</td>\n",
       "    </tr>\n",
       "    <tr>\n",
       "      <th>4</th>\n",
       "      <td>U00005</td>\n",
       "      <td>53</td>\n",
       "      <td>Female</td>\n",
       "      <td>PhD</td>\n",
       "      <td>Employed</td>\n",
       "      <td>Student</td>\n",
       "      <td>5128.93</td>\n",
       "      <td>4137.61</td>\n",
       "      <td>461509.48</td>\n",
       "      <td>No</td>\n",
       "      <td>NaN</td>\n",
       "      <td>0.00</td>\n",
       "      <td>0</td>\n",
       "      <td>0.00</td>\n",
       "      <td>0.00</td>\n",
       "      <td>0.00</td>\n",
       "      <td>516</td>\n",
       "      <td>7.50</td>\n",
       "      <td>Africa</td>\n",
       "      <td>2021-08-07</td>\n",
       "    </tr>\n",
       "  </tbody>\n",
       "</table>\n",
       "</div>"
      ],
      "text/plain": [
       "  user_id  age  gender education_level employment_status    job_title  \\\n",
       "0  U00001   56  Female     High School     Self-employed  Salesperson   \n",
       "1  U00002   19  Female             PhD          Employed  Salesperson   \n",
       "2  U00003   20  Female          Master          Employed      Teacher   \n",
       "3  U00004   25    Male             PhD          Employed      Manager   \n",
       "4  U00005   53  Female             PhD          Employed      Student   \n",
       "\n",
       "   monthly_income_usd  monthly_expenses_usd  savings_usd has_loan  loan_type  \\\n",
       "0             3531.69               1182.59    367655.03       No        NaN   \n",
       "1             3531.73               2367.99    260869.10      Yes  Education   \n",
       "2             2799.49               1003.91    230921.21       No        NaN   \n",
       "3             5894.88               4440.12    304815.51      Yes   Business   \n",
       "4             5128.93               4137.61    461509.48       No        NaN   \n",
       "\n",
       "   loan_amount_usd  loan_term_months  monthly_emi_usd  loan_interest_rate_pct  \\\n",
       "0             0.00                 0             0.00                    0.00   \n",
       "1        146323.34                36          4953.50                   13.33   \n",
       "2             0.00                 0             0.00                    0.00   \n",
       "3         93242.37                24          4926.57                   23.93   \n",
       "4             0.00                 0             0.00                    0.00   \n",
       "\n",
       "   debt_to_income_ratio  credit_score  savings_to_income_ratio         region  \\\n",
       "0                  0.00           430                     8.68          Other   \n",
       "1                  1.40           543                     6.16  North America   \n",
       "2                  0.00           754                     6.87         Africa   \n",
       "3                  0.84           461                     4.31         Europe   \n",
       "4                  0.00           516                     7.50         Africa   \n",
       "\n",
       "  record_date  \n",
       "0  2024-01-09  \n",
       "1  2022-02-13  \n",
       "2  2022-05-12  \n",
       "3  2023-10-02  \n",
       "4  2021-08-07  "
      ]
     },
     "execution_count": 5,
     "metadata": {},
     "output_type": "execute_result"
    }
   ],
   "source": [
    "df_clean = df.copy()\n",
    "df_clean.head()"
   ]
  },
  {
   "cell_type": "code",
   "execution_count": 6,
   "id": "ccca7e77",
   "metadata": {},
   "outputs": [],
   "source": [
    "#Imputaremos los nulos No_loan donde realmente no hay préstamo\n",
    "mask_no_loan = df_clean['has_loan'].eq('No')\n",
    "df_clean.loc[mask_no_loan, 'loan_type'] = df_clean.loc[mask_no_loan, 'loan_type'].fillna('No_loan')"
   ]
  },
  {
   "cell_type": "code",
   "execution_count": 9,
   "id": "19e8b314",
   "metadata": {},
   "outputs": [
    {
     "data": {
      "text/plain": [
       "np.int64(0)"
      ]
     },
     "execution_count": 9,
     "metadata": {},
     "output_type": "execute_result"
    }
   ],
   "source": [
    "df_clean[\"loan_type\"].isnull().sum()"
   ]
  },
  {
   "cell_type": "markdown",
   "id": "48765104",
   "metadata": {},
   "source": [
    "No hay ningún nulo, por lo tanto, todos los nulos correspondían a que el usuairo no tenía préstamos."
   ]
  },
  {
   "cell_type": "code",
   "execution_count": 7,
   "id": "be8fa38a",
   "metadata": {},
   "outputs": [
    {
     "data": {
      "text/plain": [
       "0          No_loan\n",
       "1        Education\n",
       "2          No_loan\n",
       "3         Business\n",
       "4          No_loan\n",
       "           ...    \n",
       "32419          Car\n",
       "32420         Home\n",
       "32421      No_loan\n",
       "32422      No_loan\n",
       "32423      No_loan\n",
       "Name: loan_type, Length: 32424, dtype: object"
      ]
     },
     "execution_count": 7,
     "metadata": {},
     "output_type": "execute_result"
    }
   ],
   "source": [
    "df_clean[\"loan_type\"]"
   ]
  },
  {
   "cell_type": "markdown",
   "id": "4a364956",
   "metadata": {},
   "source": [
    "Vemos que los nulos ya han sido imputados correctamente."
   ]
  },
  {
   "cell_type": "code",
   "execution_count": 10,
   "id": "50c57061",
   "metadata": {},
   "outputs": [],
   "source": [
    "# Reseteamos los ínidices\n",
    "df_clean.reset_index(drop=True,inplace=True)"
   ]
  },
  {
   "cell_type": "markdown",
   "id": "bbfed06f",
   "metadata": {},
   "source": [
    "## 3.1.- Formateo de nombres de columnas\n",
    "\n",
    "Antes de cambiar el tipo de datos vamos a formatear el nombre de las columnas por si hubiesen espacios o caracteres especiales."
   ]
  },
  {
   "cell_type": "code",
   "execution_count": 11,
   "id": "2da1283c",
   "metadata": {},
   "outputs": [
    {
     "data": {
      "text/plain": [
       "Index(['user_id', 'age', 'gender', 'education_level', 'employment_status',\n",
       "       'job_title', 'monthly_income_usd', 'monthly_expenses_usd',\n",
       "       'savings_usd', 'has_loan', 'loan_type', 'loan_amount_usd',\n",
       "       'loan_term_months', 'monthly_emi_usd', 'loan_interest_rate_pct',\n",
       "       'debt_to_income_ratio', 'credit_score', 'savings_to_income_ratio',\n",
       "       'region', 'record_date'],\n",
       "      dtype='object')"
      ]
     },
     "execution_count": 11,
     "metadata": {},
     "output_type": "execute_result"
    }
   ],
   "source": [
    "df_clean.columns"
   ]
  },
  {
   "cell_type": "code",
   "execution_count": 12,
   "id": "3683b8fa",
   "metadata": {},
   "outputs": [
    {
     "data": {
      "text/plain": [
       "Index(['user_id', 'age', 'gender', 'education_level', 'employment_status',\n",
       "       'job_title', 'monthly_income_usd', 'monthly_expenses_usd',\n",
       "       'savings_usd', 'has_loan', 'loan_type', 'loan_amount_usd',\n",
       "       'loan_term_months', 'monthly_emi_usd', 'loan_interest_rate_pct',\n",
       "       'debt_to_income_ratio', 'credit_score', 'savings_to_income_ratio',\n",
       "       'region', 'record_date'],\n",
       "      dtype='object')"
      ]
     },
     "execution_count": 12,
     "metadata": {},
     "output_type": "execute_result"
    }
   ],
   "source": [
    "# todas las letras en minusculas\n",
    "df_clean.columns = df.columns.str.lower()\n",
    "\n",
    "#editamos el nombre de las columnas \n",
    "df_clean.columns = df.columns.str.replace(\" \", \"_\")\n",
    "\n",
    "df_clean.columns"
   ]
  },
  {
   "cell_type": "markdown",
   "id": "10cc583d",
   "metadata": {},
   "source": [
    "## 3.3.- Cambiar Dtype columnas"
   ]
  },
  {
   "cell_type": "markdown",
   "id": "15f8f1de",
   "metadata": {},
   "source": [
    "Cambiamos el tipo de dato de las columnas `Count` , `Tenure Months` `Churn Value`, ` monthly_charges`y `Churn Score` a `int64` y `Zip Code` a `str`."
   ]
  },
  {
   "cell_type": "code",
   "execution_count": 13,
   "id": "a8130898",
   "metadata": {},
   "outputs": [
    {
     "name": "stdout",
     "output_type": "stream",
     "text": [
      "['user_id', 'gender', 'education_level', 'employment_status', 'job_title', 'has_loan', 'loan_type', 'region', 'record_date']\n",
      "['age', 'monthly_income_usd', 'monthly_expenses_usd', 'savings_usd', 'loan_amount_usd', 'loan_term_months', 'monthly_emi_usd', 'loan_interest_rate_pct', 'debt_to_income_ratio', 'credit_score', 'savings_to_income_ratio']\n"
     ]
    }
   ],
   "source": [
    "# Identificar columnas categóricas y numéricas\n",
    "columnas_categoricas = df_clean.select_dtypes(include=['object']).columns.tolist()\n",
    "columnas_numericas = df_clean.select_dtypes(include=['int', 'float']).columns.tolist()\n",
    "print(columnas_categoricas)\n",
    "print(columnas_numericas)"
   ]
  },
  {
   "cell_type": "code",
   "execution_count": null,
   "id": "20bda9b4",
   "metadata": {},
   "outputs": [],
   "source": []
  },
  {
   "cell_type": "code",
   "execution_count": null,
   "id": "9b23b621",
   "metadata": {},
   "outputs": [],
   "source": []
  }
 ],
 "metadata": {
  "kernelspec": {
   "display_name": ".venv",
   "language": "python",
   "name": "python3"
  },
  "language_info": {
   "codemirror_mode": {
    "name": "ipython",
    "version": 3
   },
   "file_extension": ".py",
   "mimetype": "text/x-python",
   "name": "python",
   "nbconvert_exporter": "python",
   "pygments_lexer": "ipython3",
   "version": "3.13.0"
  }
 },
 "nbformat": 4,
 "nbformat_minor": 5
}
