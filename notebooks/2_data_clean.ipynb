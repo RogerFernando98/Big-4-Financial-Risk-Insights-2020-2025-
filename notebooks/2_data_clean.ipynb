{
 "cells": [
  {
   "cell_type": "markdown",
   "id": "74fe5e59",
   "metadata": {},
   "source": [
    "Futuros pasos:\n",
    "\n",
    "* Mantener user_id como string ( es un identificador alfanumérico).\n",
    "* Convertir has_loan a booleana (Sí/No --> True/False).\n",
    "* Pasar columna record_date a datetime para análisis temporal."
   ]
  },
  {
   "cell_type": "markdown",
   "id": "370bef4c",
   "metadata": {},
   "source": [
    "# 1.-Librerías"
   ]
  },
  {
   "cell_type": "code",
   "execution_count": 2,
   "id": "9599bd35",
   "metadata": {},
   "outputs": [],
   "source": [
    "# Tratamiento de datos\n",
    "# -----------------------------------------------------------------------\n",
    "import pandas as pd #manejo de estructura de datos tabulares\n",
    "\n",
    "# Visualización de datos\n",
    "# -----------------------------------------------------------------------\n",
    "import matplotlib.pyplot as plt\n",
    "import seaborn as sns\n",
    "\n",
    "\n",
    "# importamos los warnings\n",
    "# -----------------------------------------------------------------------\n",
    "import warnings\n",
    "warnings.filterwarnings('ignore')\n",
    "\n",
    "# importamos configuracion de pandas\n",
    "# -----------------------------------------------------------------------\n",
    "pd.options.display.max_columns = None"
   ]
  },
  {
   "cell_type": "markdown",
   "id": "61825650",
   "metadata": {},
   "source": [
    "# 2.- Cargar datos"
   ]
  },
  {
   "cell_type": "code",
   "execution_count": 3,
   "id": "a04a4ca7",
   "metadata": {},
   "outputs": [
    {
     "name": "stdout",
     "output_type": "stream",
     "text": [
      "<class 'pandas.core.frame.DataFrame'>\n",
      "RangeIndex: 32424 entries, 0 to 32423\n",
      "Data columns (total 20 columns):\n",
      " #   Column                   Non-Null Count  Dtype  \n",
      "---  ------                   --------------  -----  \n",
      " 0   user_id                  32424 non-null  object \n",
      " 1   age                      32424 non-null  int64  \n",
      " 2   gender                   32424 non-null  object \n",
      " 3   education_level          32424 non-null  object \n",
      " 4   employment_status        32424 non-null  object \n",
      " 5   job_title                32424 non-null  object \n",
      " 6   monthly_income_usd       32424 non-null  float64\n",
      " 7   monthly_expenses_usd     32424 non-null  float64\n",
      " 8   savings_usd              32424 non-null  float64\n",
      " 9   has_loan                 32424 non-null  object \n",
      " 10  loan_type                12995 non-null  object \n",
      " 11  loan_amount_usd          32424 non-null  float64\n",
      " 12  loan_term_months         32424 non-null  int64  \n",
      " 13  monthly_emi_usd          32424 non-null  float64\n",
      " 14  loan_interest_rate_pct   32424 non-null  float64\n",
      " 15  debt_to_income_ratio     32424 non-null  float64\n",
      " 16  credit_score             32424 non-null  int64  \n",
      " 17  savings_to_income_ratio  32424 non-null  float64\n",
      " 18  region                   32424 non-null  object \n",
      " 19  record_date              32424 non-null  object \n",
      "dtypes: float64(8), int64(3), object(9)\n",
      "memory usage: 4.9+ MB\n"
     ]
    }
   ],
   "source": [
    "# Cargamos los datos desde la carpeta data/raw\n",
    "df = pd.read_csv(\"../data/raw/synthetic_personal_finance_dataset.csv\")\n",
    "df.info()"
   ]
  },
  {
   "cell_type": "markdown",
   "id": "5923a1d5",
   "metadata": {},
   "source": []
  }
 ],
 "metadata": {
  "kernelspec": {
   "display_name": ".venv",
   "language": "python",
   "name": "python3"
  },
  "language_info": {
   "codemirror_mode": {
    "name": "ipython",
    "version": 3
   },
   "file_extension": ".py",
   "mimetype": "text/x-python",
   "name": "python",
   "nbconvert_exporter": "python",
   "pygments_lexer": "ipython3",
   "version": "3.13.0"
  }
 },
 "nbformat": 4,
 "nbformat_minor": 5
}
