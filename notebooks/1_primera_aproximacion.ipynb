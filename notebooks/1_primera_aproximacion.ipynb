{
 "cells": [
  {
   "cell_type": "markdown",
   "id": "9cff5151",
   "metadata": {},
   "source": [
    "# **Personal Finance** - Analyze Financial Habits"
   ]
  },
  {
   "cell_type": "markdown",
   "id": "dffa7f74",
   "metadata": {},
   "source": [
    "# Sobre el conjunto de datos\n",
    "\n",
    "Usabilidad de la base de datos: 7.06\n",
    "Tamaño base de datos: 4.19 MB\n",
    "\n",
    "### **Contexto**\n",
    "\n",
    "En un mundo donde las decisiones financieras personales impactan directamente en la estabilidad económica de los hogares, comprender los patrones de comportamiento financiero es fundamental. Sin embargo, los datos reales sobre finanzas personales suelen ser sensibles y difíciles de obtener debido a su naturaleza privada.\n",
    "\n",
    "El Personal Finance ML Dataset ha sido creado para simular de forma sintética (2020 - 2024), pero realista, el comportamiento financiero de personas de diferentes regiones, niveles de ingreso y situaciones crediticias. Este conjunto de datos reproduce de manera real las dinámicas del mundo real, permitiendo analizar hábitos financieros y estudiar la relación entre ingresos, gastos y deudas.\n",
    "\n",
    "### **Descripción de los datos**\n",
    "\n",
    "El dataset contiene 32.424 registros individuales (filas), donde cada fila representa el perfil financiero de una persona. Los datos incluyen información demográfica, económica, crediticia y temporal, con el objetivo de reflejar la diversidad de comportamientos financieros a nivel global.\n",
    "\n",
    "* **user_id**: Identificador único que representa a cada individuo.\n",
    "* **age**: Edad del individuo, expresada en años (rango de 18 a 70).\n",
    "* **gender**: Género del individuo: Masculino, Femenino u Otro.\n",
    "* **education_level**: Nivel educativo más alto alcanzado (por ejemplo, Secundaria, Grado, Máster o Doctorado).\n",
    "* **employment_status**: Situación laboral actual del individuo (por ejemplo, Empleado, Desempleado, Estudiante, Jubilado).\n",
    "* **job_title**: Puesto de trabajo o cargo desempeñado.\n",
    "* **monthly_income_usd**: Ingreso mensual aproximado en dólares estadounidenses.\n",
    "* **monthly_expenses_usd**: Gastos mensuales aproximados en dólares estadounidenses.\n",
    "* **savings_usd**: Total de ahorros acumulados por el individuo.\n",
    "* **has_loan**: Indica si el individuo tiene un préstamo activo: Sí o No.\n",
    "* **loan_type**: Tipo de préstamo asociado, en caso de tenerlo (por ejemplo, personal, hipotecario, automotriz o educativo).\n",
    "* **loan_amount_usd**: Monto total del préstamo en dólares estadounidenses.\n",
    "* **loan_term_months**: Duración del préstamo expresada en meses.\n",
    "* **monthly_emi_usd**: Cuota mensual del préstamo (EMI, Equated Monthly Installment).\n",
    "* **loan_interest_rate_pct**: Tasa de interés anual aplicada al préstamo, expresada en porcentaje.\n",
    "* **debt_to_income_ratio**: Relación entre los pagos de deuda y los ingresos del individuo (DTI).\n",
    "* **credit_score**: Puntuación crediticia sintética en una escala de 300 a 850.\n",
    "* **savings_to_income_ratio**: Relación entre los ahorros y los ingresos anuales del individuo.\n",
    "* **region**: Región geográfica en la que reside el individuo.\n",
    "* **record_date**: Fecha de registro de la información financiera.\n",
    "### **Objetivo del Proyecto**\n",
    "\n",
    "El objetivo de este proyecto es realizar un proceso completo de limpieza y análisis exploratorio (EDA) sobre el conjunto de datos del Personal Finance ML Dataset, con el fin de comprender las características principales de la población representada y extraer patrones significativos sobre el comportamiento financiero individual.\n",
    "\n",
    "De manera provisional, el análisis podría orientarse hacia alguno de los siguientes enfoques:\n",
    "\t•\tEvaluar la salud financiera de los individuos según sus ingresos, gastos y nivel de ahorro.\n",
    "\t•\tIdentificar patrones de riesgo crediticio mediante el estudio del credit_score, debt_to_income_ratio y loan_status.\n",
    "\t•\tSegregar perfiles financieros en función de la región, nivel educativo o tipo de préstamo.\n",
    "\t•\tExplorar relaciones entre ingresos, ahorros y endeudamiento, generando visualizaciones que faciliten la interpretación.\n",
    "\n",
    "En una segunda etapa, los resultados del EDA podrán servir como base para desarrollar un modelo de predicción o segmentación, dependiendo del enfoque que finalmente se elija."
   ]
  },
  {
   "cell_type": "markdown",
   "id": "4b6f973e",
   "metadata": {},
   "source": [
    "# 1.-Librerías"
   ]
  },
  {
   "cell_type": "code",
   "execution_count": 1,
   "id": "5229995c",
   "metadata": {},
   "outputs": [],
   "source": [
    "# Tratamiento de datos\n",
    "# -----------------------------------------------------------------------\n",
    "import pandas as pd #manejo de estructura de datos tabulares\n",
    "\n",
    "# Visualización de datos\n",
    "# -----------------------------------------------------------------------\n",
    "import matplotlib.pyplot as plt\n",
    "import seaborn as sns\n",
    "\n",
    "\n",
    "# importamos los warnings\n",
    "# -----------------------------------------------------------------------\n",
    "import warnings\n",
    "warnings.filterwarnings('ignore')\n",
    "\n",
    "# importamos configuracion de pandas\n",
    "# -----------------------------------------------------------------------\n",
    "pd.options.display.max_columns = None"
   ]
  },
  {
   "cell_type": "markdown",
   "id": "507022ea",
   "metadata": {},
   "source": [
    "# 2.-Cargar datos"
   ]
  },
  {
   "cell_type": "code",
   "execution_count": 2,
   "id": "be259c45",
   "metadata": {},
   "outputs": [
    {
     "name": "stdout",
     "output_type": "stream",
     "text": [
      "<class 'pandas.core.frame.DataFrame'>\n",
      "RangeIndex: 32424 entries, 0 to 32423\n",
      "Data columns (total 20 columns):\n",
      " #   Column                   Non-Null Count  Dtype  \n",
      "---  ------                   --------------  -----  \n",
      " 0   user_id                  32424 non-null  object \n",
      " 1   age                      32424 non-null  int64  \n",
      " 2   gender                   32424 non-null  object \n",
      " 3   education_level          32424 non-null  object \n",
      " 4   employment_status        32424 non-null  object \n",
      " 5   job_title                32424 non-null  object \n",
      " 6   monthly_income_usd       32424 non-null  float64\n",
      " 7   monthly_expenses_usd     32424 non-null  float64\n",
      " 8   savings_usd              32424 non-null  float64\n",
      " 9   has_loan                 32424 non-null  object \n",
      " 10  loan_type                12995 non-null  object \n",
      " 11  loan_amount_usd          32424 non-null  float64\n",
      " 12  loan_term_months         32424 non-null  int64  \n",
      " 13  monthly_emi_usd          32424 non-null  float64\n",
      " 14  loan_interest_rate_pct   32424 non-null  float64\n",
      " 15  debt_to_income_ratio     32424 non-null  float64\n",
      " 16  credit_score             32424 non-null  int64  \n",
      " 17  savings_to_income_ratio  32424 non-null  float64\n",
      " 18  region                   32424 non-null  object \n",
      " 19  record_date              32424 non-null  object \n",
      "dtypes: float64(8), int64(3), object(9)\n",
      "memory usage: 4.9+ MB\n"
     ]
    }
   ],
   "source": [
    "df = pd.read_csv(\"../data/raw/synthetic_personal_finance_dataset.csv\")\n",
    "df.info()"
   ]
  },
  {
   "cell_type": "code",
   "execution_count": null,
   "id": "ecc65681",
   "metadata": {},
   "outputs": [],
   "source": []
  }
 ],
 "metadata": {
  "kernelspec": {
   "display_name": ".venv",
   "language": "python",
   "name": "python3"
  },
  "language_info": {
   "codemirror_mode": {
    "name": "ipython",
    "version": 3
   },
   "file_extension": ".py",
   "mimetype": "text/x-python",
   "name": "python",
   "nbconvert_exporter": "python",
   "pygments_lexer": "ipython3",
   "version": "3.13.0"
  }
 },
 "nbformat": 4,
 "nbformat_minor": 5
}
