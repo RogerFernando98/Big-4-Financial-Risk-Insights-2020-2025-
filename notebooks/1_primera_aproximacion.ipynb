{
 "cells": [
  {
   "cell_type": "code",
   "execution_count": 1,
   "id": "5229995c",
   "metadata": {},
   "outputs": [],
   "source": [
    "# Tratamiento de datos\n",
    "# -----------------------------------------------------------------------\n",
    "import pandas as pd #manejo de estructura de datos tabulares\n",
    "\n",
    "# Visualización de datos\n",
    "# -----------------------------------------------------------------------\n",
    "import matplotlib.pyplot as plt\n",
    "import seaborn as sns\n",
    "\n",
    "\n",
    "# importamos los warnings\n",
    "# -----------------------------------------------------------------------\n",
    "import warnings\n",
    "warnings.filterwarnings('ignore')\n",
    "\n",
    "# importamos configuracion de pandas\n",
    "# -----------------------------------------------------------------------\n",
    "pd.options.display.max_columns = None"
   ]
  },
  {
   "cell_type": "code",
   "execution_count": 4,
   "id": "be259c45",
   "metadata": {},
   "outputs": [
    {
     "name": "stdout",
     "output_type": "stream",
     "text": [
      "<class 'pandas.core.frame.DataFrame'>\n",
      "RangeIndex: 100 entries, 0 to 99\n",
      "Data columns (total 12 columns):\n",
      " #   Column                     Non-Null Count  Dtype  \n",
      "---  ------                     --------------  -----  \n",
      " 0   Year                       100 non-null    int64  \n",
      " 1   Firm_Name                  100 non-null    object \n",
      " 2   Total_Audit_Engagements    100 non-null    int64  \n",
      " 3   High_Risk_Cases            100 non-null    int64  \n",
      " 4   Compliance_Violations      100 non-null    int64  \n",
      " 5   Fraud_Cases_Detected       100 non-null    int64  \n",
      " 6   Industry_Affected          100 non-null    object \n",
      " 7   Total_Revenue_Impact       100 non-null    float64\n",
      " 8   AI_Used_for_Auditing       100 non-null    object \n",
      " 9   Employee_Workload          100 non-null    int64  \n",
      " 10  Audit_Effectiveness_Score  100 non-null    float64\n",
      " 11  Client_Satisfaction_Score  100 non-null    float64\n",
      "dtypes: float64(3), int64(6), object(3)\n",
      "memory usage: 9.5+ KB\n"
     ]
    }
   ],
   "source": [
    "df = pd.read_csv(\"../data/raw/big4_financial_risk_compliance.csv\")\n",
    "df.info()"
   ]
  },
  {
   "cell_type": "code",
   "execution_count": null,
   "id": "ecc65681",
   "metadata": {},
   "outputs": [],
   "source": []
  }
 ],
 "metadata": {
  "kernelspec": {
   "display_name": ".venv",
   "language": "python",
   "name": "python3"
  },
  "language_info": {
   "codemirror_mode": {
    "name": "ipython",
    "version": 3
   },
   "file_extension": ".py",
   "mimetype": "text/x-python",
   "name": "python",
   "nbconvert_exporter": "python",
   "pygments_lexer": "ipython3",
   "version": "3.13.0"
  }
 },
 "nbformat": 4,
 "nbformat_minor": 5
}
